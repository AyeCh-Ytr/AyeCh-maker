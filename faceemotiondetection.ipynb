{
  "cells": [
    {
      "cell_type": "markdown",
      "metadata": {
        "id": "view-in-github",
        "colab_type": "text"
      },
      "source": [
        "<a href=\"https://colab.research.google.com/github/AyeCh-Ytr/AyeCh-maker/blob/main/faceemotiondetection.ipynb\" target=\"_parent\"><img src=\"https://colab.research.google.com/assets/colab-badge.svg\" alt=\"Open In Colab\"/></a>"
      ]
    },
    {
      "cell_type": "code",
      "execution_count": null,
      "metadata": {
        "colab": {
          "base_uri": "https://localhost:8080/"
        },
        "id": "V3nAqrPkV26i",
        "outputId": "60564a9e-2db2-44dc-8ece-34d967e3a56a"
      },
      "outputs": [
        {
          "name": "stdout",
          "output_type": "stream",
          "text": [
            "Mounted at /content/drive\n"
          ]
        }
      ],
      "source": [
        "from google.colab import drive\n",
        "drive.mount('/content/drive')"
      ]
    },
    {
      "cell_type": "code",
      "execution_count": null,
      "metadata": {
        "id": "Yp87tgC2Wa6y"
      },
      "outputs": [],
      "source": [
        "import numpy as np\n",
        "import pandas as pd\n",
        "import matplotlib.pyplot as plt\n",
        "%matplotlib inline"
      ]
    },
    {
      "cell_type": "code",
      "execution_count": null,
      "metadata": {
        "id": "kufQSAibWb1c"
      },
      "outputs": [],
      "source": [
        "data = pd.read_csv('/content/drive/MyDrive/fer2013.csv')"
      ]
    },
    {
      "cell_type": "code",
      "execution_count": null,
      "metadata": {
        "colab": {
          "base_uri": "https://localhost:8080/",
          "height": 206
        },
        "id": "XTF3VioEWnDa",
        "outputId": "6426b03a-7d13-468b-81d1-81eeccc33231"
      },
      "outputs": [
        {
          "data": {
            "text/html": [
              "\n",
              "  <div id=\"df-55afa043-3ca0-48b8-86d9-4072b170b765\">\n",
              "    <div class=\"colab-df-container\">\n",
              "      <div>\n",
              "<style scoped>\n",
              "    .dataframe tbody tr th:only-of-type {\n",
              "        vertical-align: middle;\n",
              "    }\n",
              "\n",
              "    .dataframe tbody tr th {\n",
              "        vertical-align: top;\n",
              "    }\n",
              "\n",
              "    .dataframe thead th {\n",
              "        text-align: right;\n",
              "    }\n",
              "</style>\n",
              "<table border=\"1\" class=\"dataframe\">\n",
              "  <thead>\n",
              "    <tr style=\"text-align: right;\">\n",
              "      <th></th>\n",
              "      <th>emotion</th>\n",
              "      <th>pixels</th>\n",
              "      <th>Usage</th>\n",
              "    </tr>\n",
              "  </thead>\n",
              "  <tbody>\n",
              "    <tr>\n",
              "      <th>0</th>\n",
              "      <td>0</td>\n",
              "      <td>70 80 82 72 58 58 60 63 54 58 60 48 89 115 121...</td>\n",
              "      <td>Training</td>\n",
              "    </tr>\n",
              "    <tr>\n",
              "      <th>1</th>\n",
              "      <td>0</td>\n",
              "      <td>151 150 147 155 148 133 111 140 170 174 182 15...</td>\n",
              "      <td>Training</td>\n",
              "    </tr>\n",
              "    <tr>\n",
              "      <th>2</th>\n",
              "      <td>2</td>\n",
              "      <td>231 212 156 164 174 138 161 173 182 200 106 38...</td>\n",
              "      <td>Training</td>\n",
              "    </tr>\n",
              "    <tr>\n",
              "      <th>3</th>\n",
              "      <td>4</td>\n",
              "      <td>24 32 36 30 32 23 19 20 30 41 21 22 32 34 21 1...</td>\n",
              "      <td>Training</td>\n",
              "    </tr>\n",
              "    <tr>\n",
              "      <th>4</th>\n",
              "      <td>6</td>\n",
              "      <td>4 0 0 0 0 0 0 0 0 0 0 0 3 15 23 28 48 50 58 84...</td>\n",
              "      <td>Training</td>\n",
              "    </tr>\n",
              "  </tbody>\n",
              "</table>\n",
              "</div>\n",
              "      <button class=\"colab-df-convert\" onclick=\"convertToInteractive('df-55afa043-3ca0-48b8-86d9-4072b170b765')\"\n",
              "              title=\"Convert this dataframe to an interactive table.\"\n",
              "              style=\"display:none;\">\n",
              "        \n",
              "  <svg xmlns=\"http://www.w3.org/2000/svg\" height=\"24px\"viewBox=\"0 0 24 24\"\n",
              "       width=\"24px\">\n",
              "    <path d=\"M0 0h24v24H0V0z\" fill=\"none\"/>\n",
              "    <path d=\"M18.56 5.44l.94 2.06.94-2.06 2.06-.94-2.06-.94-.94-2.06-.94 2.06-2.06.94zm-11 1L8.5 8.5l.94-2.06 2.06-.94-2.06-.94L8.5 2.5l-.94 2.06-2.06.94zm10 10l.94 2.06.94-2.06 2.06-.94-2.06-.94-.94-2.06-.94 2.06-2.06.94z\"/><path d=\"M17.41 7.96l-1.37-1.37c-.4-.4-.92-.59-1.43-.59-.52 0-1.04.2-1.43.59L10.3 9.45l-7.72 7.72c-.78.78-.78 2.05 0 2.83L4 21.41c.39.39.9.59 1.41.59.51 0 1.02-.2 1.41-.59l7.78-7.78 2.81-2.81c.8-.78.8-2.07 0-2.86zM5.41 20L4 18.59l7.72-7.72 1.47 1.35L5.41 20z\"/>\n",
              "  </svg>\n",
              "      </button>\n",
              "      \n",
              "  <style>\n",
              "    .colab-df-container {\n",
              "      display:flex;\n",
              "      flex-wrap:wrap;\n",
              "      gap: 12px;\n",
              "    }\n",
              "\n",
              "    .colab-df-convert {\n",
              "      background-color: #E8F0FE;\n",
              "      border: none;\n",
              "      border-radius: 50%;\n",
              "      cursor: pointer;\n",
              "      display: none;\n",
              "      fill: #1967D2;\n",
              "      height: 32px;\n",
              "      padding: 0 0 0 0;\n",
              "      width: 32px;\n",
              "    }\n",
              "\n",
              "    .colab-df-convert:hover {\n",
              "      background-color: #E2EBFA;\n",
              "      box-shadow: 0px 1px 2px rgba(60, 64, 67, 0.3), 0px 1px 3px 1px rgba(60, 64, 67, 0.15);\n",
              "      fill: #174EA6;\n",
              "    }\n",
              "\n",
              "    [theme=dark] .colab-df-convert {\n",
              "      background-color: #3B4455;\n",
              "      fill: #D2E3FC;\n",
              "    }\n",
              "\n",
              "    [theme=dark] .colab-df-convert:hover {\n",
              "      background-color: #434B5C;\n",
              "      box-shadow: 0px 1px 3px 1px rgba(0, 0, 0, 0.15);\n",
              "      filter: drop-shadow(0px 1px 2px rgba(0, 0, 0, 0.3));\n",
              "      fill: #FFFFFF;\n",
              "    }\n",
              "  </style>\n",
              "\n",
              "      <script>\n",
              "        const buttonEl =\n",
              "          document.querySelector('#df-55afa043-3ca0-48b8-86d9-4072b170b765 button.colab-df-convert');\n",
              "        buttonEl.style.display =\n",
              "          google.colab.kernel.accessAllowed ? 'block' : 'none';\n",
              "\n",
              "        async function convertToInteractive(key) {\n",
              "          const element = document.querySelector('#df-55afa043-3ca0-48b8-86d9-4072b170b765');\n",
              "          const dataTable =\n",
              "            await google.colab.kernel.invokeFunction('convertToInteractive',\n",
              "                                                     [key], {});\n",
              "          if (!dataTable) return;\n",
              "\n",
              "          const docLinkHtml = 'Like what you see? Visit the ' +\n",
              "            '<a target=\"_blank\" href=https://colab.research.google.com/notebooks/data_table.ipynb>data table notebook</a>'\n",
              "            + ' to learn more about interactive tables.';\n",
              "          element.innerHTML = '';\n",
              "          dataTable['output_type'] = 'display_data';\n",
              "          await google.colab.output.renderOutput(dataTable, element);\n",
              "          const docLink = document.createElement('div');\n",
              "          docLink.innerHTML = docLinkHtml;\n",
              "          element.appendChild(docLink);\n",
              "        }\n",
              "      </script>\n",
              "    </div>\n",
              "  </div>\n",
              "  "
            ],
            "text/plain": [
              "   emotion                                             pixels     Usage\n",
              "0        0  70 80 82 72 58 58 60 63 54 58 60 48 89 115 121...  Training\n",
              "1        0  151 150 147 155 148 133 111 140 170 174 182 15...  Training\n",
              "2        2  231 212 156 164 174 138 161 173 182 200 106 38...  Training\n",
              "3        4  24 32 36 30 32 23 19 20 30 41 21 22 32 34 21 1...  Training\n",
              "4        6  4 0 0 0 0 0 0 0 0 0 0 0 3 15 23 28 48 50 58 84...  Training"
            ]
          },
          "execution_count": 4,
          "metadata": {},
          "output_type": "execute_result"
        }
      ],
      "source": [
        "data.head()"
      ]
    },
    {
      "cell_type": "code",
      "execution_count": null,
      "metadata": {
        "colab": {
          "base_uri": "https://localhost:8080/"
        },
        "id": "4E2YejXLWoqZ",
        "outputId": "3a6e4ce7-19d7-415f-b4a9-92a84a58070c"
      },
      "outputs": [
        {
          "data": {
            "text/plain": [
              "(35887, 3)"
            ]
          },
          "execution_count": 5,
          "metadata": {},
          "output_type": "execute_result"
        }
      ],
      "source": [
        "data.shape"
      ]
    },
    {
      "cell_type": "code",
      "execution_count": null,
      "metadata": {
        "id": "XAPZ3sK7W5Bb"
      },
      "outputs": [],
      "source": [
        "labels = data.iloc[:, 0]"
      ]
    },
    {
      "cell_type": "code",
      "execution_count": null,
      "metadata": {
        "id": "fc0Qv7btXBhQ"
      },
      "outputs": [],
      "source": [
        "pixels = data.iloc[:, 1]\n",
        "images = np.zeros((pixels.shape[0], 48*48))\n",
        "for ix in range(images.shape[0]):\n",
        "    p = pixels[ix].split(' ')\n",
        "    for iy in range(images.shape[1]):\n",
        "        images[ix, iy] = int(p[iy])"
      ]
    },
    {
      "cell_type": "code",
      "execution_count": null,
      "metadata": {
        "colab": {
          "base_uri": "https://localhost:8080/",
          "height": 594
        },
        "id": "2nHFNaJ3XJ2b",
        "outputId": "fb346df8-8700-42ca-ad96-9a563948d3af"
      },
      "outputs": [
        {
          "data": {
            "image/png": "[encoded data removed]",
            "text/plain": [
              "<Figure size 720x720 with 9 Axes>"
            ]
          },
          "metadata": {},
          "output_type": "display_data"
        }
      ],
      "source": [
        "plt.figure(figsize = (10,10))\n",
        "for index,image in enumerate(images[:9]):\n",
        "    plt.subplot(3,3,index+1)\n",
        "    plt.imshow(image.reshape((48,48)), cmap = 'gray')\n",
        "plt.show()"
      ]
    },
    {
      "cell_type": "code",
      "execution_count": null,
      "metadata": {
        "colab": {
          "base_uri": "https://localhost:8080/"
        },
        "id": "2TCPjGQuXOQ6",
        "outputId": "ba696226-daae-434a-9a4e-c7f6c3ed07be"
      },
      "outputs": [
        {
          "data": {
            "text/plain": [
              "array(['Training', 'PublicTest', 'PrivateTest'], dtype=object)"
            ]
          },
          "execution_count": 9,
          "metadata": {},
          "output_type": "execute_result"
        }
      ],
      "source": [
        "train_or_test = data.iloc[:, 2].values\n",
        "data[\"Usage\"].unique()"
      ]
    },
    {
      "cell_type": "code",
      "execution_count": null,
      "metadata": {
        "colab": {
          "base_uri": "https://localhost:8080/"
        },
        "id": "qu3W9EzRXTGp",
        "outputId": "b8dfe915-36fe-4021-e6fe-b99f80540307"
      },
      "outputs": [
        {
          "data": {
            "text/plain": [
              "array([0, 2, 4, 6, 3, 5, 1])"
            ]
          },
          "execution_count": 10,
          "metadata": {},
          "output_type": "execute_result"
        }
      ],
      "source": [
        "data['emotion'].unique()"
      ]
    },
    {
      "cell_type": "code",
      "execution_count": null,
      "metadata": {
        "id": "qWYU0Px7XV1y"
      },
      "outputs": [],
      "source": [
        "reshaped_images = np.zeros((images.shape[0], 48, 48,1))\n",
        "i = 0\n",
        "for image in images:\n",
        "  reshaped_images[i] = image.reshape((48,48,1))\n",
        "  i+=1"
      ]
    },
    {
      "cell_type": "code",
      "execution_count": null,
      "metadata": {
        "colab": {
          "base_uri": "https://localhost:8080/"
        },
        "id": "JBVJ5e3CXbv6",
        "outputId": "aa8fb187-589d-437e-d09b-6be98c3a2f2d"
      },
      "outputs": [
        {
          "data": {
            "text/plain": [
              "(35887, 48, 48, 1)"
            ]
          },
          "execution_count": 12,
          "metadata": {},
          "output_type": "execute_result"
        }
      ],
      "source": [
        "reshaped_images.shape"
      ]
    },
    {
      "cell_type": "code",
      "execution_count": null,
      "metadata": {
        "id": "GOeY7LDNXjN5"
      },
      "outputs": [],
      "source": [
        "norm_images = reshaped_images / 255.0"
      ]
    },
    {
      "cell_type": "code",
      "execution_count": null,
      "metadata": {
        "colab": {
          "base_uri": "https://localhost:8080/",
          "height": 267
        },
        "id": "qGOlCm-uXlvR",
        "outputId": "b920683b-b9be-4cac-9431-5767198cd6e2"
      },
      "outputs": [
        {
          "data": {
            "image/png": "[encoded data removed]",
            "text/plain": [
              "<Figure size 432x288 with 1 Axes>"
            ]
          },
          "metadata": {},
          "output_type": "display_data"
        }
      ],
      "source": [
        "plt.imshow(norm_images[5].reshape((48,48)), cmap=\"gray\")\n",
        "plt.show()"
      ]
    },
    {
      "cell_type": "code",
      "execution_count": null,
      "metadata": {
        "id": "QiwqKhtEXvix"
      },
      "outputs": [],
      "source": [
        "from tensorflow.keras.utils import to_categorical"
      ]
    },
    {
      "cell_type": "code",
      "execution_count": null,
      "metadata": {
        "colab": {
          "base_uri": "https://localhost:8080/"
        },
        "id": "qIYMYt7QXyir",
        "outputId": "9bafb046-cde0-490b-e750-f4b20ad633fe"
      },
      "outputs": [
        {
          "data": {
            "text/plain": [
              "(35887, 7)"
            ]
          },
          "execution_count": 16,
          "metadata": {},
          "output_type": "execute_result"
        }
      ],
      "source": [
        "new_labels = to_categorical(labels, num_classes=7)\n",
        "new_labels.shape"
      ]
    },
    {
      "cell_type": "code",
      "execution_count": null,
      "metadata": {
        "colab": {
          "base_uri": "https://localhost:8080/"
        },
        "id": "oJHPZ0kwYCHJ",
        "outputId": "28eb864b-6c43-4a8e-8070-58aca08218c0"
      },
      "outputs": [
        {
          "data": {
            "text/plain": [
              "(35887, 48, 48, 1)"
            ]
          },
          "execution_count": 17,
          "metadata": {},
          "output_type": "execute_result"
        }
      ],
      "source": [
        "reshaped_images.shape"
      ]
    },
    {
      "cell_type": "code",
      "execution_count": null,
      "metadata": {
        "colab": {
          "base_uri": "https://localhost:8080/"
        },
        "id": "W14rCaptYN-j",
        "outputId": "8374e3ef-7451-4adc-db97-72893397e63d"
      },
      "outputs": [
        {
          "data": {
            "text/plain": [
              "((28709, 48, 48, 1), (7178, 48, 48, 1), (28709, 7), (7178, 7))"
            ]
          },
          "execution_count": 18,
          "metadata": {},
          "output_type": "execute_result"
        }
      ],
      "source": [
        "from sklearn.model_selection import train_test_split\n",
        "X_train, X_test, y_train, y_test = train_test_split(norm_images, new_labels, test_size=0.2, random_state = 42)\n",
        "X_train.shape, X_test.shape, y_train.shape, y_test.shape"
      ]
    },
    {
      "cell_type": "code",
      "execution_count": null,
      "metadata": {
        "colab": {
          "base_uri": "https://localhost:8080/",
          "height": 35
        },
        "id": "e44x4C-sYRma",
        "outputId": "9cbd1613-3531-4862-f0c7-d623e204d6e6"
      },
      "outputs": [
        {
          "data": {
            "application/vnd.google.colaboratory.intrinsic+json": {
              "type": "string"
            },
            "text/plain": [
              "'2.11.0'"
            ]
          },
          "execution_count": 19,
          "metadata": {},
          "output_type": "execute_result"
        }
      ],
      "source": [
        "import tensorflow as tf\n",
        "tf.__version__"
      ]
    },
    {
      "cell_type": "code",
      "execution_count": null,
      "metadata": {
        "id": "BhfOTzJuYT65"
      },
      "outputs": [],
      "source": [
        "from tensorflow.keras.layers import Dense, Dropout, Flatten, Conv2D, BatchNormalization, Activation, MaxPooling2D\n",
        "from tensorflow.keras.models import Model, Sequential\n",
        "from tensorflow.keras.optimizers import Adam\n",
        "from tensorflow.keras.callbacks import ModelCheckpoint, ReduceLROnPlateau"
      ]
    },
    {
      "cell_type": "code",
      "execution_count": null,
      "metadata": {
        "colab": {
          "base_uri": "https://localhost:8080/"
        },
        "id": "aW9qxS3JYY2C",
        "outputId": "5c253705-59f4-4ff6-864c-86bdc4764014"
      },
      "outputs": [
        {
          "name": "stderr",
          "output_type": "stream",
          "text": [
            "WARNING:absl:`lr` is deprecated, please use `learning_rate` instead, or use the legacy optimizer, e.g.,tf.keras.optimizers.legacy.Adam.\n"
          ]
        },
        {
          "name": "stdout",
          "output_type": "stream",
          "text": [
            "Model: \"sequential\"\n",
            "_________________________________________________________________\n",
            " Layer (type)                Output Shape              Param #   \n",
            "=================================================================\n",
            " conv2d (Conv2D)             (None, 48, 48, 64)        640       \n",
            "                                                                 \n",
            " batch_normalization (BatchN  (None, 48, 48, 64)       256       \n",
            " ormalization)                                                   \n",
            "                                                                 \n",
            " activation (Activation)     (None, 48, 48, 64)        0         \n",
            "                                                                 \n",
            " max_pooling2d (MaxPooling2D  (None, 24, 24, 64)       0         \n",
            " )                                                               \n",
            "                                                                 \n",
            " dropout (Dropout)           (None, 24, 24, 64)        0         \n",
            "                                                                 \n",
            " conv2d_1 (Conv2D)           (None, 24, 24, 128)       204928    \n",
            "                                                                 \n",
            " batch_normalization_1 (Batc  (None, 24, 24, 128)      512       \n",
            " hNormalization)                                                 \n",
            "                                                                 \n",
            " activation_1 (Activation)   (None, 24, 24, 128)       0         \n",
            "                                                                 \n",
            " max_pooling2d_1 (MaxPooling  (None, 12, 12, 128)      0         \n",
            " 2D)                                                             \n",
            "                                                                 \n",
            " dropout_1 (Dropout)         (None, 12, 12, 128)       0         \n",
            "                                                                 \n",
            " conv2d_2 (Conv2D)           (None, 12, 12, 512)       590336    \n",
            "                                                                 \n",
            " batch_normalization_2 (Batc  (None, 12, 12, 512)      2048      \n",
            " hNormalization)                                                 \n",
            "                                                                 \n",
            " activation_2 (Activation)   (None, 12, 12, 512)       0         \n",
            "                                                                 \n",
            " max_pooling2d_2 (MaxPooling  (None, 6, 6, 512)        0         \n",
            " 2D)                                                             \n",
            "                                                                 \n",
            " dropout_2 (Dropout)         (None, 6, 6, 512)         0         \n",
            "                                                                 \n",
            " conv2d_3 (Conv2D)           (None, 6, 6, 512)         2359808   \n",
            "                                                                 \n",
            " batch_normalization_3 (Batc  (None, 6, 6, 512)        2048      \n",
            " hNormalization)                                                 \n",
            "                                                                 \n",
            " activation_3 (Activation)   (None, 6, 6, 512)         0         \n",
            "                                                                 \n",
            " max_pooling2d_3 (MaxPooling  (None, 3, 3, 512)        0         \n",
            " 2D)                                                             \n",
            "                                                                 \n",
            " dropout_3 (Dropout)         (None, 3, 3, 512)         0         \n",
            "                                                                 \n",
            " flatten (Flatten)           (None, 4608)              0         \n",
            "                                                                 \n",
            " dense (Dense)               (None, 256)               1179904   \n",
            "                                                                 \n",
            " batch_normalization_4 (Batc  (None, 256)              1024      \n",
            " hNormalization)                                                 \n",
            "                                                                 \n",
            " activation_4 (Activation)   (None, 256)               0         \n",
            "                                                                 \n",
            " dropout_4 (Dropout)         (None, 256)               0         \n",
            "                                                                 \n",
            " dense_1 (Dense)             (None, 512)               131584    \n",
            "                                                                 \n",
            " batch_normalization_5 (Batc  (None, 512)              2048      \n",
            " hNormalization)                                                 \n",
            "                                                                 \n",
            " activation_5 (Activation)   (None, 512)               0         \n",
            "                                                                 \n",
            " dropout_5 (Dropout)         (None, 512)               0         \n",
            "                                                                 \n",
            " dense_2 (Dense)             (None, 7)                 3591      \n",
            "                                                                 \n",
            "=================================================================\n",
            "Total params: 4,478,727\n",
            "Trainable params: 4,474,759\n",
            "Non-trainable params: 3,968\n",
            "_________________________________________________________________\n"
          ]
        }
      ],
      "source": [
        "model = Sequential()\n",
        "\n",
        "model.add(Conv2D(64, (3,3), padding = \"same\", input_shape = (48,48,1)))\n",
        "model.add(BatchNormalization())\n",
        "model.add(Activation('relu'))\n",
        "model.add(MaxPooling2D(pool_size = (2,2)))\n",
        "model.add(Dropout(0.25))\n",
        "\n",
        "model.add(Conv2D(128, (5,5), padding = \"same\"))\n",
        "model.add(BatchNormalization())\n",
        "model.add(Activation('relu'))\n",
        "model.add(MaxPooling2D(pool_size = (2,2)))\n",
        "model.add(Dropout(0.25))\n",
        "\n",
        "model.add(Conv2D(512, (3,3), padding = \"same\"))\n",
        "model.add(BatchNormalization())\n",
        "model.add(Activation('relu'))\n",
        "model.add(MaxPooling2D(pool_size = (2,2)))\n",
        "model.add(Dropout(0.25))\n",
        "\n",
        "model.add(Conv2D(512, (3,3), padding = \"same\"))\n",
        "model.add(BatchNormalization())\n",
        "model.add(Activation('relu'))\n",
        "model.add(MaxPooling2D(pool_size = (2,2)))\n",
        "model.add(Dropout(0.25))\n",
        "\n",
        "model.add(Flatten())\n",
        "\n",
        "model.add(Dense(256))\n",
        "model.add(BatchNormalization())\n",
        "model.add(Activation('relu'))\n",
        "model.add(Dropout(0.25))\n",
        "\n",
        "model.add(Dense(512))\n",
        "model.add(BatchNormalization())\n",
        "model.add(Activation('relu'))\n",
        "model.add(Dropout(0.25))\n",
        "\n",
        "model.add(Dense(7, activation = \"softmax\"))\n",
        "opt = Adam(lr = 0.0005)\n",
        "\n",
        "model.compile(optimizer = opt, loss = \"categorical_crossentropy\", metrics = ['accuracy'])\n",
        "model.summary()"
      ]
    },
    {
      "cell_type": "code",
      "execution_count": null,
      "metadata": {
        "colab": {
          "background_save": true,
          "base_uri": "https://localhost:8080/"
        },
        "id": "sEgzbvg0YcBc",
        "outputId": "6b974f7e-01ea-44c9-c129-c823740b8465"
      },
      "outputs": [
        {
          "name": "stdout",
          "output_type": "stream",
          "text": [
            "Epoch 1/50\n",
            "898/898 [==============================] - ETA: 0s - loss: 1.6986 - accuracy: 0.3511\n",
            "Epoch 1: saving model to fer_model.h5\n",
            "898/898 [==============================] - 1680s 2s/step - loss: 1.6986 - accuracy: 0.3511 - val_loss: 1.5820 - val_accuracy: 0.3982 - lr: 0.0010\n",
            "Epoch 2/50\n",
            "898/898 [==============================] - ETA: 0s - loss: 1.3581 - accuracy: 0.4788\n",
            "Epoch 2: saving model to fer_model.h5\n",
            "898/898 [==============================] - 1661s 2s/step - loss: 1.3581 - accuracy: 0.4788 - val_loss: 1.2437 - val_accuracy: 0.5269 - lr: 0.0010\n",
            "Epoch 3/50\n",
            "898/898 [==============================] - ETA: 0s - loss: 1.2367 - accuracy: 0.5285\n",
            "Epoch 3: saving model to fer_model.h5\n",
            "898/898 [==============================] - 1653s 2s/step - loss: 1.2367 - accuracy: 0.5285 - val_loss: 1.1829 - val_accuracy: 0.5400 - lr: 0.0010\n",
            "Epoch 4/50\n",
            "898/898 [==============================] - ETA: 0s - loss: 1.1713 - accuracy: 0.5542\n",
            "Epoch 4: saving model to fer_model.h5\n",
            "898/898 [==============================] - 1655s 2s/step - loss: 1.1713 - accuracy: 0.5542 - val_loss: 1.2561 - val_accuracy: 0.5261 - lr: 0.0010\n",
            "Epoch 5/50\n",
            "898/898 [==============================] - ETA: 0s - loss: 1.1159 - accuracy: 0.5765\n",
            "Epoch 5: saving model to fer_model.h5\n",
            "898/898 [==============================] - 1592s 2s/step - loss: 1.1159 - accuracy: 0.5765 - val_loss: 1.1467 - val_accuracy: 0.5592 - lr: 0.0010\n",
            "Epoch 6/50\n",
            "898/898 [==============================] - ETA: 0s - loss: 1.0654 - accuracy: 0.6004\n",
            "Epoch 6: saving model to fer_model.h5\n",
            "898/898 [==============================] - 1644s 2s/step - loss: 1.0654 - accuracy: 0.6004 - val_loss: 1.1133 - val_accuracy: 0.5800 - lr: 0.0010\n",
            "Epoch 7/50\n",
            "898/898 [==============================] - ETA: 0s - loss: 1.0172 - accuracy: 0.6158\n",
            "Epoch 7: saving model to fer_model.h5\n",
            "898/898 [==============================] - 1645s 2s/step - loss: 1.0172 - accuracy: 0.6158 - val_loss: 1.1592 - val_accuracy: 0.5568 - lr: 0.0010\n",
            "Epoch 8/50\n",
            "898/898 [==============================] - ETA: 0s - loss: 0.9618 - accuracy: 0.6390\n",
            "Epoch 8: saving model to fer_model.h5\n",
            "898/898 [==============================] - 1663s 2s/step - loss: 0.9618 - accuracy: 0.6390 - val_loss: 1.0828 - val_accuracy: 0.5917 - lr: 0.0010\n",
            "Epoch 9/50\n",
            "898/898 [==============================] - ETA: 0s - loss: 0.9166 - accuracy: 0.6562\n",
            "Epoch 9: saving model to fer_model.h5\n",
            "898/898 [==============================] - 1672s 2s/step - loss: 0.9166 - accuracy: 0.6562 - val_loss: 1.1218 - val_accuracy: 0.5741 - lr: 0.0010\n",
            "Epoch 10/50\n",
            "898/898 [==============================] - ETA: 0s - loss: 0.8590 - accuracy: 0.6784\n",
            "Epoch 10: saving model to fer_model.h5\n",
            "898/898 [==============================] - 1651s 2s/step - loss: 0.8590 - accuracy: 0.6784 - val_loss: 1.1132 - val_accuracy: 0.5876 - lr: 0.0010\n",
            "Epoch 11/50\n",
            "876/898 [============================>.] - ETA: 37s - loss: 0.7185 - accuracy: 0.7353"
          ]
        }
      ],
      "source": [
        "epochs = 50\n",
        "\n",
        "reduce_lr = ReduceLROnPlateau(monitor='val_loss', factor=0.1,\n",
        "                              patience=2, min_lr=0.00001, mode='auto')\n",
        "\n",
        "checkpoint = ModelCheckpoint(\"fer_model.h5\", monitor='val_loss', \n",
        "                             mode='max', verbose=1)\n",
        "\n",
        "callbacks = [checkpoint, reduce_lr]\n",
        "\n",
        "history = model.fit(X_train, y_train, validation_data=(X_test, y_test), callbacks=callbacks, epochs = epochs)"
      ]
    },
    {
      "cell_type": "code",
      "execution_count": null,
      "metadata": {
        "id": "QaeNTJRQYgTa"
      },
      "outputs": [],
      "source": [
        "emotions = ('angry', 'disgust', 'fear', 'happy', 'sad', 'surprise', 'neutral')"
      ]
    },
    {
      "cell_type": "code",
      "execution_count": null,
      "metadata": {
        "id": "NK1xeyjIYlEE"
      },
      "outputs": [],
      "source": [
        "import PIL\n",
        "from PIL import Image\n",
        "import cv2\n",
        "from tensorflow.keras.models import model_from_json\n",
        "import matplotlib.pyplot as plt\n"
      ]
    },
    {
      "cell_type": "code",
      "execution_count": null,
      "metadata": {
        "id": "EAzs29BVSIO6"
      },
      "outputs": [],
      "source": [
        "json_file = open(\"model.json\", \"r\")\n",
        "loaded_json_model = json_file.read()\n",
        "json_file.close()\n",
        "\n",
        "model = model_from_json(loaded_json_model)\n",
        "model.load_weights(\"model_weights.h5\")"
      ]
    },
    {
      "cell_type": "code",
      "execution_count": null,
      "metadata": {
        "id": "upDZYZGPYmBh"
      },
      "outputs": [],
      "source": [
        "img = cv2.imread(\"/content/drive/MyDrive/face detection project/face data train test/test/angry/PrivateTest_10131363.jpg\")"
      ]
    },
    {
      "cell_type": "code",
      "execution_count": null,
      "metadata": {
        "id": "mKaCEKXhY3Px"
      },
      "outputs": [],
      "source": [
        "img = cv2.cvtColor(img, cv2.COLOR_BGR2GRAY)\n",
        "plt.imshow(img)"
      ]
    },
    {
      "cell_type": "code",
      "execution_count": null,
      "metadata": {
        "id": "dqKVriDnY63B"
      },
      "outputs": [],
      "source": [
        "img.shape"
      ]
    },
    {
      "cell_type": "code",
      "execution_count": null,
      "metadata": {
        "id": "4MVHDc1mY8n5"
      },
      "outputs": [],
      "source": [
        "img = cv2.resize(img, (48,48))"
      ]
    },
    {
      "cell_type": "code",
      "execution_count": null,
      "metadata": {
        "id": "4GEl9NteSmYS"
      },
      "outputs": [],
      "source": [
        "max_index = np.argmax(model.predict(img.reshape((1,48,48,1))), axis=-1)[0]\n",
        "\n",
        "                  \n",
        "predicted_emotion = emotions[max_index]  \n",
        "print(f'predicted emotion is {predicted_emotion}')"
      ]
    },
    {
      "cell_type": "code",
      "execution_count": null,
      "metadata": {
        "id": "kbly-gQ3ZA6h"
      },
      "outputs": [],
      "source": [
        "model.save(\"Fer_Model.h5\")"
      ]
    },
    {
      "cell_type": "code",
      "execution_count": null,
      "metadata": {
        "id": "LUuscVP1ZC2J"
      },
      "outputs": [],
      "source": [
        "model.save_weights(\"model_weights.h5\")"
      ]
    },
    {
      "cell_type": "code",
      "execution_count": null,
      "metadata": {
        "id": "3Bs7KNPgZExi"
      },
      "outputs": [],
      "source": [
        "model_json = model.to_json()\n",
        "with open(\"model.json\", \"w\") as json_file:\n",
        "    json_file.write(model_json)"
      ]
    }
  ],
  "metadata": {
    "colab": {
      "provenance": [],
      "include_colab_link": true
    },
    "kernelspec": {
      "display_name": "Python 3",
      "name": "python3"
    },
    "language_info": {
      "name": "python"
    }
  },
  "nbformat": 4,
  "nbformat_minor": 0
}